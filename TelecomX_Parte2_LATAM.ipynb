{
  "nbformat": 4,
  "nbformat_minor": 0,
  "metadata": {
    "colab": {
      "provenance": [],
      "toc_visible": true,
      "include_colab_link": true
    },
    "kernelspec": {
      "name": "python3",
      "display_name": "Python 3"
    },
    "language_info": {
      "name": "python"
    }
  },
  "cells": [
    {
      "cell_type": "markdown",
      "metadata": {
        "id": "view-in-github",
        "colab_type": "text"
      },
      "source": [
        "<a href=\"https://colab.research.google.com/github/sandrazuniga/Challenge_TelecomX_Parte2/blob/main/TelecomX_Parte2_LATAM.ipynb\" target=\"_parent\"><img src=\"https://colab.research.google.com/assets/colab-badge.svg\" alt=\"Open In Colab\"/></a>"
      ]
    },
    {
      "cell_type": "markdown",
      "source": [],
      "metadata": {
        "id": "nLdXC_24YKVl"
      }
    },
    {
      "cell_type": "markdown",
      "source": [
        "# Telecom X - Análisis de Evasión de Clientes\n",
        "\n",
        "La empresa enfrenta una alta tasa de cancelaciones y necesita comprender los factores que llevan a la pérdida de clientes.\n",
        "\n",
        "El ánalisis contiene:\n",
        "\n",
        "Importación y manipulación de datos desde una API.\n",
        "Aplicación de los conceptos de ETL (Extracción, Transformación y Carga) en la preparación de los datos.\n",
        "Creación de visualizaciones estratégicas para identificar patrones y tendencias.\n",
        "Análisis Exploratorio de Datos (EDA) e informe con insights relevantes."
      ],
      "metadata": {
        "id": "BB91mrveYOUU"
      }
    },
    {
      "cell_type": "markdown",
      "source": [
        "#📌 Extracción"
      ],
      "metadata": {
        "id": "4foVEKhrlqcH"
      }
    },
    {
      "cell_type": "code",
      "source": [
        "import pandas as pd\n",
        "import numpy as np\n",
        "import matplotlib.pyplot as plt\n",
        "import plotly.express as px\n",
        "from matplotlib.lines import Line2D\n",
        "import seaborn as sns\n",
        "import requests\n",
        "import json"
      ],
      "metadata": {
        "id": "1--uPM88l7JH"
      },
      "execution_count": null,
      "outputs": []
    },
    {
      "cell_type": "code",
      "source": [
        "url = 'https://raw.githubusercontent.com/sandrazuniga/Challenge_TelecomX_Parte2/refs/heads/main/TelecomX_Data.json'\n",
        "\n",
        "df = pd.read_json(url)"
      ],
      "metadata": {
        "id": "iHjh2N6zYv6j"
      },
      "execution_count": null,
      "outputs": []
    },
    {
      "cell_type": "code",
      "source": [
        "df.head()"
      ],
      "metadata": {
        "id": "yrw8uaiQZ8tk"
      },
      "execution_count": null,
      "outputs": []
    },
    {
      "cell_type": "code",
      "source": [
        "df.info()"
      ],
      "metadata": {
        "id": "gZeX3vpWaCDy"
      },
      "execution_count": null,
      "outputs": []
    },
    {
      "cell_type": "markdown",
      "source": [
        "#🔧 Transformación"
      ],
      "metadata": {
        "id": "1lSZP8zmmGZu"
      }
    },
    {
      "cell_type": "code",
      "source": [
        "# Paso 1: Normalizar columnas anidadas\n",
        "customer_df = pd.json_normalize(df['customer'])\n",
        "phone_df = pd.json_normalize(df['phone'])\n",
        "internet_df = pd.json_normalize(df['internet'])\n",
        "account_df = pd.json_normalize(df['account'])\n",
        "\n",
        "# Paso 2: Eliminar las columnas anidadas originales del DataFrame\n",
        "df.drop(columns=['customer', 'phone', 'internet', 'account'], inplace=True)\n",
        "\n",
        "# Paso 3: Concatenar el DataFrame original con los nuevos datos normalizados\n",
        "df = pd.concat([df, customer_df, phone_df, internet_df, account_df], axis=1)\n",
        "\n",
        "# Paso 4: Verificar los cambios\n",
        "df.head()"
      ],
      "metadata": {
        "id": "bsm-WTLjmHvt"
      },
      "execution_count": null,
      "outputs": []
    },
    {
      "cell_type": "code",
      "source": [
        "df.columns"
      ],
      "metadata": {
        "id": "FuZtmpJCaanq"
      },
      "execution_count": null,
      "outputs": []
    },
    {
      "cell_type": "code",
      "source": [
        "\n",
        "df.rename(columns={\n",
        "    'customerID': 'ID',\n",
        "    'Churn':'cancelo',\n",
        "    'gender': 'genero',\n",
        "    'SeniorCitizen': 'mayor_de_65',\n",
        "    'Partner': 'tiene_pareja',\n",
        "    'Dependents': 'tiene_dependentes',\n",
        "    'tenure': 'meses_de_contrato',\n",
        "    'PhoneService': 'servicio_telefonico',\n",
        "    'MultipleLines': 'lineas_multiples',\n",
        "    'InternetService': 'servicio_internet',\n",
        "    'OnlineSecurity': 'seguridad_en_linea',\n",
        "    'OnlineBackup': 'Soporte_en_linea',\n",
        "    'DeviceProtection': 'proteccion_dispositivos',\n",
        "    'TechSupport': 'soporte_tecnico',\n",
        "    'StreamingTV': 'servicio_tv',\n",
        "    'StreamingMovies': 'servicio_peliculas',\n",
        "    'PaperlessBilling': 'facturas_electronicas',\n",
        "    'PaymentMethod': 'metodo_pago',\n",
        "    'Contract': 'tipo_contrato',\n",
        "    'Charges.Monthly': 'gastos_mensuales',\n",
        "    'Charges.Total': 'gastos_totales'\n",
        "}, inplace=True)"
      ],
      "metadata": {
        "id": "zs_6V8xnahXq"
      },
      "execution_count": null,
      "outputs": []
    },
    {
      "cell_type": "code",
      "source": [
        "df.head()"
      ],
      "metadata": {
        "id": "sloGwk_EamPL"
      },
      "execution_count": null,
      "outputs": []
    },
    {
      "cell_type": "code",
      "source": [
        "df.isnull().sum()"
      ],
      "metadata": {
        "id": "OYEBOSxdaskE"
      },
      "execution_count": null,
      "outputs": []
    },
    {
      "cell_type": "code",
      "source": [
        "(df['cancelo'] == '').sum()"
      ],
      "metadata": {
        "id": "YfWkv6QyayBa"
      },
      "execution_count": null,
      "outputs": []
    },
    {
      "cell_type": "code",
      "source": [
        "(df['gastos_totales'] == ' ').sum()"
      ],
      "metadata": {
        "id": "ByWFa5ewa3jT"
      },
      "execution_count": null,
      "outputs": []
    },
    {
      "cell_type": "code",
      "source": [
        "df['cancelo'] = df['cancelo'].replace('', np.nan)\n",
        "df['gastos_totales'] = df['gastos_totales'].replace(' ', np.nan)"
      ],
      "metadata": {
        "id": "ENyE_xORa5eT"
      },
      "execution_count": null,
      "outputs": []
    },
    {
      "cell_type": "code",
      "source": [
        "(df['cancelo'] == '').sum()\n",
        "(df['gastos_totales'] == ' ').sum()"
      ],
      "metadata": {
        "id": "0NL8AN2tbCED"
      },
      "execution_count": null,
      "outputs": []
    },
    {
      "cell_type": "code",
      "source": [
        "df.isnull().sum()"
      ],
      "metadata": {
        "id": "YEd7o4rgbDcz"
      },
      "execution_count": null,
      "outputs": []
    },
    {
      "cell_type": "code",
      "source": [
        "df = df.dropna(subset=['cancelo', 'gastos_totales'])"
      ],
      "metadata": {
        "id": "8hJkhjZRbLJz"
      },
      "execution_count": null,
      "outputs": []
    },
    {
      "cell_type": "code",
      "source": [
        "df[['cancelo', 'gastos_totales']].isnull().sum()"
      ],
      "metadata": {
        "id": "Pr1OTU_DbOUc"
      },
      "execution_count": null,
      "outputs": []
    },
    {
      "cell_type": "code",
      "source": [
        "df.info()"
      ],
      "metadata": {
        "id": "ufT00JaBbRJW"
      },
      "execution_count": null,
      "outputs": []
    },
    {
      "cell_type": "code",
      "source": [
        "df.head()"
      ],
      "metadata": {
        "id": "5pZc6LhIbVmr"
      },
      "execution_count": null,
      "outputs": []
    },
    {
      "cell_type": "code",
      "source": [
        "# Convertir a float\n",
        "df['gastos_totales'] = df['gastos_totales'].astype(np.float64)"
      ],
      "metadata": {
        "id": "yWLmyO2PbcO7"
      },
      "execution_count": null,
      "outputs": []
    },
    {
      "cell_type": "code",
      "source": [
        "# Convertir a str\n",
        "vars_a_str = ['ID', 'genero', 'servicio_internet', 'tipo_contrato', 'metodo_pago']"
      ],
      "metadata": {
        "id": "1MWcEE0GbdRT"
      },
      "execution_count": null,
      "outputs": []
    },
    {
      "cell_type": "code",
      "source": [
        "# Convertirlas a string\n",
        "df[vars_a_str] = df[vars_a_str].astype(str)"
      ],
      "metadata": {
        "id": "-qAVE9u4bgYc"
      },
      "execution_count": null,
      "outputs": []
    },
    {
      "cell_type": "code",
      "source": [
        "# creo una variable que contiene todas las variables que van a ser transformadas en booleanos\n",
        "\n",
        "columnas_bool = ['cancelo','mayor_de_65', 'tiene_pareja', 'tiene_dependentes', 'facturas_electronicas']\n",
        "df[columnas_bool] = df[columnas_bool].replace({'Yes': True, 'No': False}).infer_objects(copy=False)"
      ],
      "metadata": {
        "id": "uUFCm7TRboR8"
      },
      "execution_count": null,
      "outputs": []
    },
    {
      "cell_type": "code",
      "source": [
        "# Transformación de variables a categoricas\n",
        "\n",
        "columnas_categoricas = ['lineas_multiples', 'seguridad_en_linea', 'Soporte_en_linea', 'proteccion_dispositivos', 'soporte_tecnico', 'servicio_tv', 'servicio_peliculas']\n",
        "df[columnas_categoricas] = df[columnas_categoricas].astype('category')"
      ],
      "metadata": {
        "id": "iiHjqWZ0bpoT"
      },
      "execution_count": null,
      "outputs": []
    },
    {
      "cell_type": "code",
      "source": [
        "df.head()"
      ],
      "metadata": {
        "id": "wm-6SL_WbteD"
      },
      "execution_count": null,
      "outputs": []
    },
    {
      "cell_type": "code",
      "source": [
        "df.duplicated().sum()"
      ],
      "metadata": {
        "id": "jXCJh0i-b0AL"
      },
      "execution_count": null,
      "outputs": []
    },
    {
      "cell_type": "code",
      "source": [
        "df['cuentas_diarias'] = df['gastos_mensuales'].astype(float) / 30"
      ],
      "metadata": {
        "id": "NU3fVkdEb1Tb"
      },
      "execution_count": null,
      "outputs": []
    },
    {
      "cell_type": "code",
      "source": [
        "df.head()"
      ],
      "metadata": {
        "id": "809hoR1jb7Uj"
      },
      "execution_count": null,
      "outputs": []
    },
    {
      "cell_type": "code",
      "source": [
        "df[columnas_bool] = df[columnas_bool].astype(int)"
      ],
      "metadata": {
        "id": "fXno7gkrcBCj"
      },
      "execution_count": null,
      "outputs": []
    },
    {
      "cell_type": "code",
      "source": [
        "df[columnas_bool].head()"
      ],
      "metadata": {
        "id": "OED0V1LCcEPb"
      },
      "execution_count": null,
      "outputs": []
    },
    {
      "cell_type": "code",
      "source": [
        "df.info()"
      ],
      "metadata": {
        "id": "YX1AUNaOcGnD"
      },
      "execution_count": null,
      "outputs": []
    },
    {
      "cell_type": "code",
      "source": [
        "df.head()"
      ],
      "metadata": {
        "id": "0-eYMMbtcTNM"
      },
      "execution_count": null,
      "outputs": []
    },
    {
      "cell_type": "code",
      "source": [
        "df.dtypes"
      ],
      "metadata": {
        "id": "j62AeOeFcau2"
      },
      "execution_count": null,
      "outputs": []
    },
    {
      "cell_type": "markdown",
      "source": [
        "#📊 Carga y análisis"
      ],
      "metadata": {
        "id": "6XnTC2NTmMRL"
      }
    },
    {
      "cell_type": "code",
      "source": [
        "df.describe()"
      ],
      "metadata": {
        "id": "1jgUnLqTmPdd"
      },
      "execution_count": null,
      "outputs": []
    },
    {
      "cell_type": "code",
      "source": [
        "# identifica variables categoricas\n",
        "\n",
        "columnas_categoricas = df.select_dtypes(include=['object', 'category', 'bool']).columns.tolist()\n",
        "columnas_categoricas"
      ],
      "metadata": {
        "id": "YHwMtZ_4ck-0"
      },
      "execution_count": null,
      "outputs": []
    },
    {
      "cell_type": "code",
      "source": [
        "# Realizar recuentos cruzados con cancelo\n",
        "\n",
        "for col in columnas_categoricas:\n",
        "    print(f'\\n--- Porcentaje de evasión por {col} ---')\n",
        "    porcentaje = pd.crosstab(df[col], df['cancelo'], normalize='index') * 100\n",
        "    print(porcentaje.round(2))"
      ],
      "metadata": {
        "id": "8hdoJ3f9cqKF"
      },
      "execution_count": null,
      "outputs": []
    },
    {
      "cell_type": "code",
      "source": [
        "import seaborn as sns\n",
        "import matplotlib.pyplot as plt"
      ],
      "metadata": {
        "id": "H_gUQ_m5cwpM"
      },
      "execution_count": null,
      "outputs": []
    },
    {
      "cell_type": "code",
      "source": [
        "# Definimos los colores\n",
        "AZUL = '#1f77b4'         # azul corporativo\n",
        "VERDE = '#2ca02c'        # verde corporativo\n",
        "GRIS = '#4D4D4D'         # gris para títulos"
      ],
      "metadata": {
        "id": "HToeREZIcxqV"
      },
      "execution_count": null,
      "outputs": []
    },
    {
      "cell_type": "code",
      "source": [
        "def cancelacion_tipo_internet():\n",
        "\n",
        "  # Ordenar categorías según porcentaje de cancelación\n",
        "  orden = df.groupby('servicio_internet')['cancelo'].mean().sort_values().index\n",
        "\n",
        "  # Crear gráfica\n",
        "  plt.figure(figsize=(10, 6))\n",
        "  ax = sns.barplot(\n",
        "      x='servicio_internet',\n",
        "      y='cancelo',\n",
        "      data=df,\n",
        "      estimator=lambda x: x.mean() * 100,\n",
        "      order=orden,\n",
        "      errorbar=None\n",
        "  )\n",
        "\n",
        "  # Asignar colores barra por barra (sin palette -> sin warning)\n",
        "  for i, bar in enumerate(ax.patches):\n",
        "      color = AZUL if i % 2 == 0 else VERDE\n",
        "      bar.set_facecolor(color)\n",
        "\n",
        "  # Añadir porcentaje sobre cada barra\n",
        "  for container in ax.containers:\n",
        "      ax.bar_label(container, fmt='%.1f%%', label_type='edge', padding=3, color=AZUL, fontsize=12)\n",
        "\n",
        "  # Personalización\n",
        "  ax.set_title('Cancelación por tipo de Internet', fontsize=18, color=GRIS)\n",
        "\n",
        "  # Eje Y: suprimir ticks y etiqueta\n",
        "  ax.set_ylabel('')\n",
        "  ax.set_yticklabels([])  # oculta los valores del eje y\n",
        "  ax.tick_params(axis='y', length=0)  # oculta las marcas de ticks del eje y\n",
        "\n",
        "  # Eje X: etiquetas en azul, tamaño 12\n",
        "  ax.set_xlabel('')\n",
        "  ax.tick_params(axis='x', labelsize=12, colors=AZUL)\n",
        "\n",
        "  # Eliminar bordes superior, derecho e izquierdo\n",
        "  ax.spines['top'].set_visible(False)\n",
        "  ax.spines['right'].set_visible(False)\n",
        "  ax.spines['left'].set_visible(False)\n",
        "\n",
        "  plt.tight_layout()\n",
        "\n",
        "\n",
        "\n",
        "  return plt"
      ],
      "metadata": {
        "id": "h1uZY34Dc02t"
      },
      "execution_count": null,
      "outputs": []
    },
    {
      "cell_type": "code",
      "source": [
        "def cancelacion_tipo_contrato():\n",
        "\n",
        "  # Ordenar categorías según porcentaje de cancelación\n",
        "  orden = df.groupby('tipo_contrato')['cancelo'].mean().sort_values().index\n",
        "\n",
        "  # Crear gráfica\n",
        "  plt.figure(figsize=(10, 6))\n",
        "  ax = sns.barplot(\n",
        "      x='tipo_contrato',\n",
        "      y='cancelo',\n",
        "      data=df,\n",
        "      estimator=lambda x: x.mean() * 100,\n",
        "      order=orden,\n",
        "      errorbar=None\n",
        "  )\n",
        "\n",
        "  # Asignar colores barra por barra (alternancia azul/verde)\n",
        "  for i, bar in enumerate(ax.patches):\n",
        "      color = AZUL if i % 2 == 0 else VERDE\n",
        "      bar.set_facecolor(color)\n",
        "\n",
        "  # Añadir porcentaje sobre cada barra\n",
        "  for container in ax.containers:\n",
        "      ax.bar_label(container, fmt='%.1f%%', label_type='edge', padding=3, color=AZUL, fontsize=12)\n",
        "\n",
        "  # Personalización\n",
        "  ax.set_title('Cancelación por tipo de contrato', fontsize=18, color=GRIS)\n",
        "\n",
        "  # Eje Y: suprimir ticks y etiqueta\n",
        "  ax.set_ylabel('')\n",
        "  ax.set_yticklabels([])  # oculta los valores del eje y\n",
        "  ax.tick_params(axis='y', length=0)  # oculta las marcas de ticks del eje y\n",
        "\n",
        "  # Eje X: etiquetas en azul, tamaño 12\n",
        "  ax.set_xlabel('')\n",
        "  ax.tick_params(axis='x', labelsize=12, colors=AZUL)\n",
        "\n",
        "  # Eliminar bordes superior, derecho e izquierdo\n",
        "  ax.spines['top'].set_visible(False)\n",
        "  ax.spines['right'].set_visible(False)\n",
        "  ax.spines['left'].set_visible(False)\n",
        "\n",
        "  # Fondo gris\n",
        "  ax.set_facecolor('#f0f0f0')  # Fondo del gráfico\n",
        "  plt.gcf().set_facecolor('#f0f0f0')  # Fondo de la figura completa\n",
        "\n",
        "  plt.tight_layout()\n",
        "\n",
        "  return plt\n",
        "\n",
        "\n",
        "def cancelacion_servicios_adicionales():\n",
        "\n",
        "  # Lista de servicios adicionales\n",
        "  servicios = ['seguridad_en_linea', 'Soporte_en_linea', 'proteccion_dispositivos', 'soporte_tecnico']\n",
        "  titulos = ['Seguridad en línea', 'Soporte en línea', 'Protección de dispositivos', 'Soporte técnico']\n",
        "\n",
        "  # Orden lógico de categorías\n",
        "  orden = ['No', 'Yes', 'No internet service']\n",
        "\n",
        "  # Crear figura y ejes\n",
        "  fig, axs = plt.subplots(2, 2, figsize=(12, 8))\n",
        "  fig.subplots_adjust(hspace=0.5, wspace=0.3)\n",
        "  fig.suptitle('Cancelación según servicios adicionales', fontsize=20, color=GRIS)\n",
        "  fig.patch.set_facecolor('#f0f0f0')  # fondo de la figura\n",
        "\n",
        "  # Gráficas\n",
        "  for i, (servicio, titulo) in enumerate(zip(servicios, titulos)):\n",
        "      fila = i // 2\n",
        "      col = i % 2\n",
        "      ax = axs[fila, col]\n",
        "      ax.set_facecolor('#f0f0f0')  # fondo del gráfico individual\n",
        "\n",
        "      # Gráfica de barras sin usar hue\n",
        "      plot = sns.barplot(\n",
        "      x=servicio,\n",
        "      y='cancelo',\n",
        "      data=df,\n",
        "      estimator=lambda x: x.mean() * 100,\n",
        "      order=orden,\n",
        "      errorbar=None,\n",
        "      hue=servicio,           # agregamos hue (aunque no usaremos leyenda)\n",
        "      legend=False,           # ocultamos leyenda\n",
        "      ax=ax,\n",
        "      palette=[AZUL, VERDE, AZUL]\n",
        "  )\n",
        "\n",
        "\n",
        "      # Título\n",
        "      ax.set_title(titulo, fontsize=16, color=GRIS)\n",
        "\n",
        "      # Etiqueta del eje Y solo en la primera columna\n",
        "      if col == 0:\n",
        "          ax.set_ylabel('')\n",
        "          ax.set_yticklabels([])  # suprimir etiquetas y\n",
        "          ax.tick_params(axis='y', length=0)  # sin ticks eje y\n",
        "      else:\n",
        "          ax.set_ylabel('')\n",
        "          ax.set_yticklabels([])\n",
        "          ax.tick_params(axis='y', length=0)\n",
        "\n",
        "      # Eje X\n",
        "      ax.set_xlabel('')\n",
        "      ax.tick_params(axis='x', labelsize=12, colors=AZUL)\n",
        "\n",
        "      # Bordes\n",
        "      ax.spines['top'].set_visible(False)\n",
        "      ax.spines['right'].set_visible(False)\n",
        "      ax.spines['left'].set_visible(False)\n",
        "\n",
        "      # Rango común para comparar\n",
        "      ax.set_ylim(0, 50)\n",
        "\n",
        "      # Etiquetas sobre las barras\n",
        "      for container in ax.containers:\n",
        "          ax.bar_label(container, fmt='%.1f%%', label_type='edge', padding=3, color=AZUL, fontsize=12)\n",
        "\n",
        "  plt.tight_layout(rect=[0, 0, 1, 0.95])  # para que el título no se encime\n",
        "\n",
        "  return plt"
      ],
      "metadata": {
        "id": "uipKXIcbc8X0"
      },
      "execution_count": null,
      "outputs": []
    },
    {
      "cell_type": "code",
      "source": [
        "# Realizar recuentos cruzados con cancelo\n",
        "variables_binarias = ['mayor_de_65', 'tiene_pareja', 'tiene_dependentes']\n",
        "\n",
        "for col in variables_binarias:\n",
        "    print(f'\\n--- Porcentaje de evasión por {col} ---')\n",
        "    porcentaje = pd.crosstab(df[col], df['cancelo'], normalize='index') * 100\n",
        "    print(porcentaje.round(2))"
      ],
      "metadata": {
        "id": "6IigOio1dEOc"
      },
      "execution_count": null,
      "outputs": []
    },
    {
      "cell_type": "code",
      "source": [
        "def cancelacion_bin():\n",
        "\n",
        "  plt.figure(figsize=(14, 4))\n",
        "\n",
        "\n",
        "  for i, var in enumerate(variables_binarias):\n",
        "      plt.subplot(1, 4, i+1)\n",
        "\n",
        "      # Calcular porcentaje de cancelación\n",
        "      data = df.groupby(var)['cancelo'].mean() * 100\n",
        "      categorias = data.index\n",
        "      valores = data.values\n",
        "\n",
        "      # Convertimos a DataFrame para usar x=hue\n",
        "      temp_df = pd.DataFrame({var: categorias, 'cancelacion': valores})\n",
        "\n",
        "      # Gráfico de barras con colores alternos\n",
        "      sns.barplot(\n",
        "          data=temp_df,\n",
        "          x=var,\n",
        "          y='cancelacion',\n",
        "          hue=var,\n",
        "          palette=[AZUL, VERDE],\n",
        "          legend=False\n",
        "      )\n",
        "\n",
        "      # Texto sobre las barras\n",
        "      for j, v in enumerate(valores):\n",
        "          plt.text(j, v + 2, f'{v:.1f}%', ha='center', fontsize=12, color=AZUL)\n",
        "\n",
        "      # Limites y personalización\n",
        "      plt.ylim(0, 100)\n",
        "      plt.title(var.replace('_', ' ').capitalize(), fontsize=16, )\n",
        "\n",
        "      # Eje Y sin etiquetas ni ylabel\n",
        "      plt.tick_params(axis='y', labelleft=False)\n",
        "      plt.ylabel('')\n",
        "\n",
        "      # Eje X personalizado\n",
        "      plt.xlabel('')\n",
        "      plt.xticks([0, 1], ['No', 'Sí'], fontsize=12, color=AZUL)\n",
        "\n",
        "      # Eliminar bordes superior, derecho e izquierdo\n",
        "      ax = plt.gca()\n",
        "      ax.spines['top'].set_visible(False)\n",
        "      ax.spines['right'].set_visible(False)\n",
        "      ax.spines['left'].set_visible(False)\n",
        "\n",
        "  plt.tight_layout()\n",
        "\n",
        "  return plt\n"
      ],
      "metadata": {
        "id": "m7xAoMbedQTk"
      },
      "execution_count": null,
      "outputs": []
    },
    {
      "cell_type": "code",
      "source": [
        "# Variables numericas\n",
        "\n",
        "columnas_numericas = [['gastos_mensuales','gastos_totales','cuentas_diarias']]\n",
        "\n",
        "# Promedios y desviaciones por grupo\n",
        "df.groupby('cancelo')[['gastos_mensuales', 'gastos_totales', 'cuentas_diarias']].agg(['mean', 'std'])\n"
      ],
      "metadata": {
        "id": "CZ-8HRaRdW4d"
      },
      "execution_count": null,
      "outputs": []
    },
    {
      "cell_type": "code",
      "source": [
        "print(columnas_numericas)\n",
        "print(type(columnas_numericas))"
      ],
      "metadata": {
        "id": "ziqGdCR7dboE"
      },
      "execution_count": null,
      "outputs": []
    },
    {
      "cell_type": "code",
      "source": [
        "columnas_numericas = columnas_numericas[0]"
      ],
      "metadata": {
        "id": "5KYGwRqYdlV8"
      },
      "execution_count": null,
      "outputs": []
    },
    {
      "cell_type": "code",
      "source": [
        "def boxplot_cancelacion(columnas_numericas):\n",
        "\n",
        "  plt.figure(figsize=(15, 5))\n",
        "  plt.gcf().set_facecolor('#F2F2F2')  # Fondo claro\n",
        "\n",
        "  for i, col in enumerate(columnas_numericas):\n",
        "      plt.subplot(1, 3, i + 1)\n",
        "\n",
        "      # Boxplot con alternancia de colores\n",
        "      sns.boxplot(\n",
        "      x='cancelo',\n",
        "      y=col,\n",
        "      hue='cancelo',\n",
        "      data=df,\n",
        "      showfliers=False,\n",
        "      palette=[AZUL, VERDE],\n",
        "      legend=False\n",
        "     )\n",
        "\n",
        "\n",
        "\n",
        "      # Título en GRIS\n",
        "      plt.title(f'{col.replace(\"_\", \" \").capitalize()} según cancelación', fontsize=16, color=GRIS)\n",
        "\n",
        "      # Eje X\n",
        "      plt.xlabel('Canceló', fontsize=12, color=AZUL)\n",
        "      plt.xticks([0, 1], ['No', 'Sí'], fontsize=12, color=AZUL)\n",
        "\n",
        "      # Eje Y\n",
        "      plt.ylabel(col.replace('_', ' ').capitalize(), fontsize=12, color=AZUL)\n",
        "      plt.tick_params(axis='y', labelsize=12, colors=AZUL)\n",
        "\n",
        "      # Eliminar bordes superior, derecho e izquierdo\n",
        "      ax = plt.gca()\n",
        "      ax.set_facecolor('#F2F2F2')  # Fondo claro en subplot\n",
        "      ax.spines['top'].set_visible(False)\n",
        "      ax.spines['right'].set_visible(False)\n",
        "      ax.spines['left'].set_visible(False)\n",
        "\n",
        "  plt.tight_layout()\n",
        "  return plt\n"
      ],
      "metadata": {
        "id": "oPNaJVMfdmXz"
      },
      "execution_count": null,
      "outputs": []
    },
    {
      "cell_type": "code",
      "source": [
        "def cancelacion_segun_meses():\n",
        "\n",
        "  # Boxplot para meses de contrato\n",
        "  plt.figure(figsize=(10, 5))\n",
        "  sns.boxplot(x='cancelo', y='meses_de_contrato', data=df, showfliers=False)\n",
        "  plt.title('Meses de contrato según cancelación', fontsize=18, color=GRIS)\n",
        "  plt.xlabel('Canceló')\n",
        "  plt.ylabel('Meses de contrato')\n",
        "\n",
        "  # Eliminar bordes superior, derecho e izquierdo\n",
        "  ax = plt.gca()\n",
        "  ax.set_facecolor('#F2F2F2')  # Fondo claro en subplot\n",
        "  ax.spines['top'].set_visible(False)\n",
        "  ax.spines['right'].set_visible(False)\n",
        "  ax.spines['left'].set_visible(False)\n",
        "\n",
        "\n",
        "  plt.tight_layout()\n",
        "  return plt"
      ],
      "metadata": {
        "id": "_H285K93dvg2"
      },
      "execution_count": null,
      "outputs": []
    },
    {
      "cell_type": "markdown",
      "source": [
        "#📄Informe final"
      ],
      "metadata": {
        "id": "v-WzfSvTmaw9"
      }
    },
    {
      "cell_type": "code",
      "source": [
        "cancelacion_tipo_internet().show()"
      ],
      "metadata": {
        "id": "XMTac0YJmeK9"
      },
      "execution_count": null,
      "outputs": []
    },
    {
      "cell_type": "code",
      "source": [
        " cancelacion_tipo_contrato().show()"
      ],
      "metadata": {
        "id": "JJ_FZhGwd7H8"
      },
      "execution_count": null,
      "outputs": []
    },
    {
      "cell_type": "code",
      "source": [
        "cancelacion_servicios_adicionales().show()"
      ],
      "metadata": {
        "id": "j7rpLKOOd-vk"
      },
      "execution_count": null,
      "outputs": []
    },
    {
      "cell_type": "code",
      "source": [
        "cancelacion_bin().show()"
      ],
      "metadata": {
        "id": "YFAnSjUveCo8"
      },
      "execution_count": null,
      "outputs": []
    },
    {
      "cell_type": "code",
      "source": [
        "boxplot_cancelacion(columnas_numericas).show()"
      ],
      "metadata": {
        "id": "HCLz73JueHGd"
      },
      "execution_count": null,
      "outputs": []
    },
    {
      "cell_type": "code",
      "source": [
        "cancelacion_segun_meses().show()"
      ],
      "metadata": {
        "id": "tGsxkKAJeLsm"
      },
      "execution_count": null,
      "outputs": []
    },
    {
      "cell_type": "markdown",
      "source": [
        "🔹 Conclusiones e Insights:\n",
        "🧪 Principales hallazgos\n",
        "\n",
        "Mayor cancelación con fibra óptica: Los usuarios con internet de fibra óptica presentan un porcentaje de cancelación más alto (41.9%).\n",
        "\n",
        "Contratos mes a mes tienen mayor evasión: Las personas con contratos mensuales tienen una tasa de cancelación elevada (42.7%), en comparación con otros tipos de contrato.\n",
        "\n",
        "Menor fidelización sin servicios adicionales: Los clientes que no cuentan con servicios adicionales cancelan con mayor frecuencia:\n",
        "\n",
        "Seguridad en línea: 41.8%\n",
        "\n",
        "Soporte en línea: 39.9%\n",
        "\n",
        "Protección de dispositivos: 39.1%\n",
        "\n",
        "Soporte técnico: 41.6%\n",
        "\n",
        "Edad avanzada y mayor tasa de cancelación: Los clientes mayores de 65 años tienen una tasa de cancelación mucho más alta (41.7%) que los más jóvenes.\n",
        "\n",
        "Estado civil influye: Los clientes sin pareja cancelan más (~33%) que aquellos con pareja.\n",
        "\n",
        "Menos dependientes, más cancelación: Los clientes sin personas a su cargo cancelan en mayor proporción (31.3%) que los que sí tienen dependientes.\n",
        "\n",
        "Mayor gasto mensual, mayor probabilidad de cancelación: A medida que aumenta el gasto mensual, también lo hace la tasa de cancelación. Esto puede deberse a la percepción de que el servicio es costoso.\n",
        "\n",
        "Clientes nuevos cancelan más: Quienes cancelaron tienen un total facturado significativamente menor, lo que indica que llevaban poco tiempo como clientes.\n",
        "\n",
        "Más uso no garantiza fidelidad: Los clientes que cancelaron presentan ligeramente más conexiones diarias. Aunque la diferencia no es muy marcada, podría sugerir que usaban el servicio activamente pero no estaban satisfechos.\n",
        "\n",
        "Contratos cortos = más cancelaciones: Los clientes que cancelaron tienden a tener contratos mucho más cortos (mediana ~10 meses), lo que sugiere menor compromiso o una etapa temprana de prueba del servicio.\n",
        "\n",
        "🛠️ ¿Cómo reducir la evasión?\n",
        "\n",
        "Revisar el servicio de fibra óptica: Identificar y corregir posibles fallas técnicas. Ofrecer alternativas tecnológicas (como otro tipo de conexión) en zonas problemáticas para evitar cancelaciones.\n",
        "\n",
        "Incentivar contratos más duraderos: Ofrecer beneficios como descuentos o promociones para quienes eligen contratos más largos, sin imponer cláusulas de permanencia rígidas.\n",
        "\n",
        "Incluir servicios adicionales sin recargo: Crear paquetes integrales que incluyan servicios como soporte técnico, seguridad en línea y protección de dispositivos, mejorando así la experiencia del cliente sin aumentar su factura.\n",
        "\n",
        "Enfocarse en el público mayor: Diseñar ofertas específicas para adultos mayores, con contenidos o canales afines a sus intereses (por ejemplo, películas clásicas o programación religiosa).\n",
        "\n",
        "Promociones para personas solas o sin dependientes: Brindar beneficios especiales como descuentos o servicios gratuitos adicionales a este grupo, que muestra mayor tendencia a cancelar.\n",
        "\n",
        "Reducir la percepción de altos costos: Ajustar tarifas o implementar opciones de pago flexibles, como pagos quincenales, para mejorar la percepción de accesibilidad y evitar que los usuarios sientan que están pagando de más.\n",
        "\n",
        "🔹 Recomendaciones:\n",
        "Con base en los hallazgos obtenidos, se proponen las siguientes estrategias para reducir la tasa de cancelación y aumentar la fidelización de clientes:\n",
        "\n",
        "Optimizar la experiencia de nuevos clientes:\n",
        "Desarrollar un programa de bienvenida que acompañe a los nuevos usuarios durante los primeros meses.\n",
        "\n",
        "Realizar encuestas de satisfacción temprana para detectar problemas a tiempo y evitar cancelaciones tempranas.\n",
        "\n",
        "Mejorar la percepción de valor del servicio:\n",
        "Reestructurar los paquetes para incluir servicios adicionales sin aumentar el precio final.\n",
        "\n",
        "Comunicar de forma más clara los beneficios incluidos en el servicio (soporte, seguridad, protección).\n",
        "\n",
        "Implementar opciones de pago más flexibles (ej. pagos quincenales o personalizados) para clientes con alto gasto mensual.\n",
        "\n",
        "Fidelizar a los clientes con contratos mes a mes:\n",
        "Ofrecer incentivos exclusivos para quienes migren de contrato mensual a uno de mayor duración (como beneficios permanentes o tarifas especiales).\n",
        "\n",
        "Crear un sistema de recompensas o puntos por antigüedad, aplicable incluso en contratos mensuales.\n",
        "\n",
        "Segmentar ofertas según el perfil del cliente:\n",
        "Para adultos mayores: ofrecer contenido personalizado, soporte preferencial, atención al cliente dedicada y capacitación básica para el uso del servicio.\n",
        "\n",
        "Para personas solteras o sin dependientes: crear campañas enfocadas en independencia, flexibilidad y autosuficiencia, con promociones diseñadas para su estilo de vida.\n",
        "\n",
        "Auditar y mejorar el servicio de fibra óptica:\n",
        "Analizar reclamos técnicos y evaluar la infraestructura por zonas geográficas.\n",
        "\n",
        "Priorizar mejoras en las áreas con mayores tasas de cancelación asociadas a fibra óptica.\n",
        "\n",
        "Capacitar al personal técnico para garantizar instalaciones sin inconvenientes.\n",
        "\n",
        "Monitorear la actividad del usuario:\n",
        "Identificar patrones de uso que preceden a la cancelación (como reducción en conexiones diarias).\n",
        "\n",
        "Usar esta información para activar alertas preventivas o campañas personalizadas de retención.\n",
        "\n",
        "Crear una unidad de análisis de cancelaciones:\n",
        "Implementar un sistema continuo de análisis de evasión para identificar nuevas tendencias.\n",
        "\n",
        "Hacer seguimiento mensual de métricas clave (edad, tipo de contrato, servicios adicionales, antigüedad, etc.)."
      ],
      "metadata": {
        "id": "b1QaLvMCea5L"
      }
    },
    {
      "cell_type": "code",
      "source": [
        "df.columns"
      ],
      "metadata": {
        "id": "KyzVCJEheP6N"
      },
      "execution_count": null,
      "outputs": []
    },
    {
      "cell_type": "code",
      "source": [
        "df"
      ],
      "metadata": {
        "id": "2GR09Xdo9P_0"
      },
      "execution_count": null,
      "outputs": []
    },
    {
      "cell_type": "code",
      "source": [
        "X = df.drop('cancelo', axis = 1)\n",
        "y = df['cancelo']"
      ],
      "metadata": {
        "id": "73EKn7KO9j28"
      },
      "execution_count": null,
      "outputs": []
    },
    {
      "cell_type": "code",
      "source": [
        "X"
      ],
      "metadata": {
        "id": "gR23w2xG9xKB"
      },
      "execution_count": null,
      "outputs": []
    },
    {
      "cell_type": "code",
      "source": [
        "y"
      ],
      "metadata": {
        "id": "uE52vtsk966q"
      },
      "execution_count": null,
      "outputs": []
    },
    {
      "cell_type": "code",
      "source": [
        "from sklearn.model_selection import train_test_split\n",
        "\n",
        "X_train, X_test, y_train, y_test = train_test_split(X, y, test_size=0.1, stratify = y, random_state=42)"
      ],
      "metadata": {
        "id": "P6oeRJqr-dMx"
      },
      "execution_count": null,
      "outputs": []
    },
    {
      "cell_type": "code",
      "source": [
        "columnas_categoricas = X_train.select_dtypes(include=['object', 'category']).columns.tolist()\n",
        "columnas_numericas = ['meses_de_contrato', 'gastos_mensuales']"
      ],
      "metadata": {
        "id": "ZnMfUuKr-hOj"
      },
      "execution_count": null,
      "outputs": []
    },
    {
      "cell_type": "code",
      "source": [
        "from sklearn.compose import make_column_transformer\n",
        "from sklearn.preprocessing import OneHotEncoder, StandardScaler"
      ],
      "metadata": {
        "id": "GlwnMm8T-lW6"
      },
      "execution_count": null,
      "outputs": []
    },
    {
      "cell_type": "code",
      "source": [
        "one_hot = make_column_transformer((OneHotEncoder(sparse_output=False, handle_unknown='ignore'), columnas_categoricas), (StandardScaler(), columnas_numericas), remainder='passthrough', sparse_threshold=0)"
      ],
      "metadata": {
        "id": "_3M35f6I-pXC"
      },
      "execution_count": null,
      "outputs": []
    },
    {
      "cell_type": "code",
      "source": [
        "X_train_encoded = one_hot.fit_transform(X_train)\n",
        "X_test_encoded = one_hot.transform(X_test)"
      ],
      "metadata": {
        "id": "voD6_frB-uY6"
      },
      "execution_count": null,
      "outputs": []
    },
    {
      "cell_type": "code",
      "metadata": {
        "id": "13b07c30"
      },
      "source": [
        "one_hot.get_feature_names_out()"
      ],
      "execution_count": null,
      "outputs": []
    },
    {
      "cell_type": "code",
      "source": [
        "X_train_df = pd.DataFrame(X_train_encoded, columns = one_hot.get_feature_names_out())\n",
        "X_train_df"
      ],
      "metadata": {
        "id": "VUw1gBANBTKg"
      },
      "execution_count": null,
      "outputs": []
    },
    {
      "cell_type": "code",
      "source": [
        "X_train_df.info()"
      ],
      "metadata": {
        "id": "kg-G8rF-Blbj"
      },
      "execution_count": null,
      "outputs": []
    },
    {
      "cell_type": "code",
      "source": [
        "X_test_df = pd.DataFrame(X_test_encoded, columns=one_hot.get_feature_names_out())\n",
        "X_test_df"
      ],
      "metadata": {
        "id": "s4l5XOoFBs2Z"
      },
      "execution_count": null,
      "outputs": []
    },
    {
      "cell_type": "code",
      "source": [
        "X_test_df.info()"
      ],
      "metadata": {
        "id": "T0jI4B0hBwcJ"
      },
      "execution_count": null,
      "outputs": []
    },
    {
      "cell_type": "code",
      "source": [
        "X_train_corr = X_train_df.copy()\n",
        "X_train_corr['churn'] = y_train.reset_index(drop=True)\n",
        "\n",
        "correlaciones = X_train_corr.corr()['churn'].sort_values(ascending=False)\n",
        "print(correlaciones)"
      ],
      "metadata": {
        "id": "4rkRQhhpB3cg"
      },
      "execution_count": null,
      "outputs": []
    }
  ]
}